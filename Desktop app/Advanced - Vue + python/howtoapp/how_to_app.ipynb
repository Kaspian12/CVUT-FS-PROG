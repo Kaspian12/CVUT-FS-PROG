{
 "cells": [
  {
   "cell_type": "markdown",
   "metadata": {
    "slideshow": {
     "slide_type": "slide"
    }
   },
   "source": [
    "# Tvorba aplikace"
   ]
  },
  {
   "cell_type": "markdown",
   "metadata": {
    "slideshow": {
     "slide_type": "fragment"
    }
   },
   "source": [
    "## Od začátku - do konce"
   ]
  },
  {
   "cell_type": "markdown",
   "metadata": {
    "slideshow": {
     "slide_type": "slide"
    }
   },
   "source": [
    "## Možnosti GUI\n",
    "\n",
    "Typické pro python\n",
    "\n",
    "- tkinter\n",
    "- wxpython\n",
    "- kivi\n",
    "- pyQT\n",
    "- QT for python"
   ]
  },
  {
   "cell_type": "markdown",
   "metadata": {
    "slideshow": {
     "slide_type": "fragment"
    }
   },
   "source": [
    "\n",
    "- <u>electron (JS / TS)</u>"
   ]
  },
  {
   "cell_type": "markdown",
   "metadata": {
    "slideshow": {
     "slide_type": "slide"
    }
   },
   "source": [
    "## Javascript part"
   ]
  },
  {
   "cell_type": "markdown",
   "metadata": {
    "slideshow": {
     "slide_type": "subslide"
    }
   },
   "source": [
    "Nainstalujte si [NODE.js](https://nodejs.org/en/download/)\n",
    "\n",
    "Do vašeho IDE si stáhněte některé pluginy pro práci s vue, node a vuetify\n",
    "\n",
    "Pro vs code jsou to \n",
    "```\n",
    "npm\n",
    "vetur\n",
    "Vue VSCode Snippets\n",
    "vuetify-vscode\n",
    "```\n"
   ]
  },
  {
   "cell_type": "markdown",
   "metadata": {
    "slideshow": {
     "slide_type": "subslide"
    }
   },
   "source": [
    "Potřebujeme vytvořit nový vue projekt a bude také potřeba doinstalovat některé pluginy a knihovny (package.json)\n",
    "\n",
    "Otevřeme si vytvořenou složku v terminálu a jedno po druhém budeme spouštět"
   ]
  },
  {
   "cell_type": "markdown",
   "metadata": {
    "slideshow": {
     "slide_type": "fragment"
    }
   },
   "source": [
    "```\n",
    "npm install -g @vue/cli\n",
    "\n",
    "vue create gui\n",
    "\n",
    "cd gui\n",
    "\n",
    "vue add vuetify\n",
    "vue add vuex\n",
    "npm install\n",
    "npm install vue-plotly\n",
    "```"
   ]
  },
  {
   "cell_type": "markdown",
   "metadata": {
    "slideshow": {
     "slide_type": "subslide"
    }
   },
   "source": [
    "### Public index.html\n",
    "\n",
    "Do index.html ve složce public přidáme tuto řádku\n",
    "\n",
    "```\n",
    "<script type=\"text/javascript\" src=\"http://localhost:8686/eel.js\"></script>\n",
    "```"
   ]
  },
  {
   "cell_type": "markdown",
   "metadata": {
    "slideshow": {
     "slide_type": "subslide"
    }
   },
   "source": [
    "### main.js\n",
    "\n",
    "Do hlavního js souboru připojíme náš py skript\n",
    "\n",
    "```\n",
    "export const eel = window.eel;\n",
    "eel.set_host(\"ws://localhost:8686\");\n",
    "```"
   ]
  },
  {
   "cell_type": "markdown",
   "metadata": {
    "slideshow": {
     "slide_type": "slide"
    }
   },
   "source": [
    "## Python part"
   ]
  },
  {
   "cell_type": "code",
   "execution_count": null,
   "metadata": {
    "ExecuteTime": {
     "end_time": "2020-09-09T06:44:35.828103Z",
     "start_time": "2020-09-09T06:44:31.104049Z"
    },
    "slideshow": {
     "slide_type": "subslide"
    },
    "tags": []
   },
   "outputs": [],
   "source": [
    "# Vytvoříme si virtuální prostředí pomocí\n",
    "\n",
    "! pip install virtualenv\n",
    "\n",
    "! virtualenv venv"
   ]
  },
  {
   "cell_type": "markdown",
   "metadata": {
    "slideshow": {
     "slide_type": "subslide"
    }
   },
   "source": [
    "## app.py\n"
   ]
  },
  {
   "cell_type": "code",
   "execution_count": null,
   "metadata": {
    "scrolled": false,
    "slideshow": {
     "slide_type": "fragment"
    }
   },
   "outputs": [],
   "source": [
    "# Přidejme import několika knihoven na začátek\n",
    "\n",
    "import pandas as pd\n",
    "import eel\n",
    "import tkinter as tk\n",
    "from tkinter import filedialog \n",
    "from pathlib import Path\n",
    "import sys\n",
    "import traceback\n",
    "\n",
    "import predictit\n",
    "from predictit.configuration import config\n",
    "\n",
    "devel=1\n",
    "\n",
    "def run_gui(devel):\n",
    "\n",
    "    if getattr(sys, 'frozen', False):\n",
    "        gui_path = Path(sys._MEIPASS) / 'gui'\n",
    "    else:\n",
    "        gui_path = Path(__file__).resolve().parent / 'gui'\n",
    "\n",
    "    if devel:\n",
    "        directory = gui_path / 'src'\n",
    "        app = None\n",
    "        page = {'port': 8080}\n",
    "\n",
    "        def close_callback(page, sockets):\n",
    "            pass\n",
    "\n",
    "    else:\n",
    "        directory = gui_path /'dist'\n",
    "        close_callback = None\n",
    "        app = 'chrome'\n",
    "        page = 'index.html'\n",
    "\n",
    "    eel.init(directory.as_posix(), ['.vue', '.js', '.html'])\n",
    "\n",
    "    eel.start(page, mode=app, cmdline_args=['--disable-features=TranslateUI'], close_callback=close_callback, host='localhost', port=8686, disable_cache=True),\n",
    "\n",
    "\n",
    "if __name__ == '__main__':\n",
    "    try:\n",
    "        multiprocessing.freeze_support()\n",
    "        run_gui(devel)\n",
    "    except Exception:\n",
    "        traceback.print_exc()\n"
   ]
  },
  {
   "cell_type": "markdown",
   "metadata": {
    "slideshow": {
     "slide_type": "slide"
    }
   },
   "source": [
    "# Start aplikace v debug módu\n"
   ]
  },
  {
   "cell_type": "markdown",
   "metadata": {
    "slideshow": {
     "slide_type": "fragment"
    }
   },
   "source": [
    "1) Spusťte app.py\n",
    "\n",
    "2) Spusťte vue pomocí npm serve skriptu\n",
    "\n",
    "Buď skript spustíme přímo z IDE, nebo z terminálu ve složce, kde je  soubor `packages.json` pomocí příkazu `npm run-script serve` \n"
   ]
  },
  {
   "cell_type": "markdown",
   "metadata": {
    "slideshow": {
     "slide_type": "slide"
    }
   },
   "source": [
    "# Obsah Aplikace\n"
   ]
  },
  {
   "cell_type": "markdown",
   "metadata": {
    "slideshow": {
     "slide_type": "fragment"
    }
   },
   "source": [
    "Nejdříve si do vašeho prohlížeče nainstalujte vue devtools\n",
    "\n",
    "Jako kostru aplikace použijeme komponentu [application](https://vuetifyjs.com/en/components/application/) z vuetify.\n",
    "\n",
    "Prohlédněte si některé další komponenty které byste mohli potřebovat.\n",
    "\n",
    "Mimo seznam komponent, využijeme především předdefinované třídy pro okraje, nebo flex pozicování pro elementy `d-row` a `d-col`\n",
    "\n",
    "Př: \n",
    "```\n",
    "class=\"mt-4 d-flex justify-center text-center\"\n",
    "```\n",
    "... Výsledek bude mít margin-top: 4, position: flex, a bude mít elementy i text zarovnané na střed \n",
    "\n",
    "Vložíme button pro spuštění funkce a vložíme graf pro vykreslení výsledků (pomocí [vue-plotly](https://github.com/David-Desmaisons/vue-plotly))"
   ]
  },
  {
   "cell_type": "markdown",
   "metadata": {
    "slideshow": {
     "slide_type": "subslide"
    }
   },
   "source": [
    "## Vlastní komponenty\n",
    "\n",
    "I když to pro tuto jednoduchou aplikaci není třeba, pro větší projekty je lepší logické celky oddělovat do jednotlivých vlastních komponent.\n"
   ]
  },
  {
   "cell_type": "markdown",
   "metadata": {
    "slideshow": {
     "slide_type": "slide"
    }
   },
   "source": [
    "## Data"
   ]
  },
  {
   "cell_type": "markdown",
   "metadata": {
    "slideshow": {
     "slide_type": "fragment"
    }
   },
   "source": [
    "  ```\n",
    "  data: () => ({\n",
    "    show_plot: false,\n",
    "    layout: { showlegend: false },\n",
    "  }),\n",
    "  ```"
   ]
  },
  {
   "cell_type": "markdown",
   "metadata": {
    "slideshow": {
     "slide_type": "fragment"
    }
   },
   "source": [
    "Nyní můžeme například nastavit, zda se má nějaká komponenta zobrazit pomocí v-if prop"
   ]
  },
  {
   "cell_type": "markdown",
   "metadata": {
    "slideshow": {
     "slide_type": "slide"
    }
   },
   "source": [
    "## Metody\n"
   ]
  },
  {
   "cell_type": "markdown",
   "metadata": {
    "slideshow": {
     "slide_type": "fragment"
    }
   },
   "source": [
    "```\n",
    "  methods: {\n",
    "    predict() {\n",
    "      window.eel.predict()((result) => {\n",
    "        let plot_data = [];\n",
    "        for (var i = 0; i < result.y_axis.length; i++) {\n",
    "          plot_data.push({\n",
    "            x: result.x_axis,\n",
    "            y: result.y_axis[i],\n",
    "            name: result.names[i],\n",
    "            line: { width: 1.5 },\n",
    "          });\n",
    "        }\n",
    "\n",
    "        this.data = plot_data;\n",
    "        this.show_plot = !this.show_plot;\n",
    "      });\n",
    "    },\n",
    "  }\n",
    "```"
   ]
  },
  {
   "cell_type": "markdown",
   "metadata": {
    "slideshow": {
     "slide_type": "fragment"
    }
   },
   "source": [
    "Nyní můžeme spustit výpočet, vrátit data, a zaponout zobrazení grafu"
   ]
  },
  {
   "cell_type": "markdown",
   "metadata": {
    "slideshow": {
     "slide_type": "subslide"
    }
   },
   "source": [
    "## Assets\n",
    "\n",
    "Sem můžeme vkládat například obrázky, css nebo js soubory\n"
   ]
  },
  {
   "cell_type": "markdown",
   "metadata": {
    "slideshow": {
     "slide_type": "subslide"
    }
   },
   "source": [
    "## Vuex - store\n",
    "\n",
    "Komponenty spolu data nesdílejí, a tak je výhodné použít nástroj pro sdílení jak dat, tak i metod."
   ]
  },
  {
   "cell_type": "markdown",
   "metadata": {
    "slideshow": {
     "slide_type": "subslide"
    }
   },
   "source": [
    "Z důvodu krátké časové dotace lze použít připravené snippety`App.vue` a `app.py`"
   ]
  },
  {
   "cell_type": "markdown",
   "metadata": {
    "slideshow": {
     "slide_type": "slide"
    }
   },
   "source": [
    "## Python\n",
    "\n",
    "Nyní vytvoříme pythonní funkci v app.py, kterou budeme následně volat z GUI"
   ]
  },
  {
   "cell_type": "code",
   "execution_count": null,
   "metadata": {
    "slideshow": {
     "slide_type": "subslide"
    }
   },
   "outputs": [],
   "source": [
    "@eel.expose\n",
    "def predict():\n",
    "    root = tk.Tk()\n",
    "    root.withdraw()\n",
    "    root.wm_attributes('-topmost', 1)\n",
    "\n",
    "    source_path = filedialog.askopenfilename(title=title, filetypes=[(\"csv\", \".csv\")])\n",
    "\n",
    "    config.update({'data': source_path, 'predicted_column': 2, 'plotit': 0, 'printit': 0, 'return_type': 'detailed_dictionary'})\n",
    "\n",
    "    predictions = predictit.main.predict()\n",
    "\n",
    "    result_df = predictions['complete_dataframe']\n",
    "\n",
    "    if result_df.isnull().values.any():\n",
    "        result_df = result_df.where(result_df.notnull(), None)\n",
    "\n",
    "    return {'x_axis': result_df.index.to_list(), 'y_axis': result_df.values.T.tolist(), 'names': result_df.columns.values.tolist()}\n"
   ]
  },
  {
   "cell_type": "markdown",
   "metadata": {
    "slideshow": {
     "slide_type": "slide"
    }
   },
   "source": [
    "# Deployment\n"
   ]
  },
  {
   "cell_type": "markdown",
   "metadata": {
    "slideshow": {
     "slide_type": "fragment"
    }
   },
   "source": [
    "Nejdříve vytvoříme statické soubory z webové části a následně vytvoříme .exe soubor z pythnového souboru"
   ]
  },
  {
   "cell_type": "markdown",
   "metadata": {
    "slideshow": {
     "slide_type": "subslide"
    }
   },
   "source": [
    "## Build app.py souboru\n",
    "\n",
    "K vytvoření aplikace samotné použijeme `pyinstaller`.\n",
    "Za zmínku stojí také například `nuitka`, nebo `pyoxidizer`\n"
   ]
  },
  {
   "cell_type": "code",
   "execution_count": null,
   "metadata": {
    "slideshow": {
     "slide_type": "subslide"
    }
   },
   "outputs": [],
   "source": [
    "! pip install pyinstaller"
   ]
  },
  {
   "cell_type": "markdown",
   "metadata": {
    "slideshow": {
     "slide_type": "subslide"
    }
   },
   "source": [
    "### Spec file\n",
    "\n",
    "Vytvořme konfigurační soubor, podle kterého bude aplikace zkompilována\n"
   ]
  },
  {
   "cell_type": "code",
   "execution_count": null,
   "metadata": {
    "ExecuteTime": {
     "end_time": "2020-09-09T09:18:35.399856Z",
     "start_time": "2020-09-09T09:18:31.429775Z"
    },
    "slideshow": {
     "slide_type": "fragment"
    }
   },
   "outputs": [],
   "source": [
    "!pyi-makespec app.py"
   ]
  },
  {
   "cell_type": "markdown",
   "metadata": {
    "slideshow": {
     "slide_type": "subslide"
    }
   },
   "source": [
    "Soubor trochu upravíme\n",
    "\n",
    "1. Odstraníme absolutní cesty\n",
    "2. Přidáme soubory potřebné pro aplikaci - eel.js\n",
    "3. Přidáme pythonní knihovny potřebné pro běh, které nebyly detekovány automatickou analýzou\n",
    "\n"
   ]
  },
  {
   "cell_type": "markdown",
   "metadata": {
    "slideshow": {
     "slide_type": "subslide"
    }
   },
   "source": [
    "### app.spec\n",
    "\n",
    "Na začátek souboru\n",
    "\n",
    "```\n",
    "import sys\n",
    "from pathlib import Path\n",
    "import os\n",
    "import inspect\n",
    "\n",
    "my_path = Path(os.path.abspath(inspect.getframeinfo(inspect.currentframe()).filename)).parents[0]\n",
    "site_packages_path = my_path / 'venv' / 'Lib' / 'site-packages'\n",
    "\n",
    "sys.setrecursionlimit(5000)\n",
    "```"
   ]
  },
  {
   "cell_type": "markdown",
   "metadata": {
    "slideshow": {
     "slide_type": "subslide"
    }
   },
   "source": [
    "\n",
    "Uvnitř analysis nahradíme `datas` a `hiddenimports`\n",
    "\n",
    "```\n",
    "datas=[((site_packages_path / 'eel' / 'eel.js').as_posix(), 'eel'),\n",
    "        ('gui/web_builded', 'gui/web_builded')],\n",
    " \n",
    " \n",
    "hiddenimports=['predictit', 'bottle_websocket', 'sklearn.neighbors._typedefs', 'sklearn.utils._cython_blas',\n",
    "                'sklearn.neighbors._quad_tree', 'sklearn.tree._utils', 'statsmodels.tsa.statespace._filters',\n",
    "                'statsmodels.tsa.statespace._filters._conventional',  'statsmodels.tsa.statespace._filters._univariate',\n",
    "                'statsmodels.tsa.statespace._filters._univariate_diffuse', 'statsmodels.tsa.statespace._filters._inversions',\n",
    "                'statsmodels.tsa.statespace._smoothers', 'statsmodels.tsa.statespace._smoothers._conventional',\n",
    "                'statsmodels.tsa.statespace._smoothers._univariate', 'statsmodels.tsa.statespace._smoothers._univariate_diffuse',\n",
    "                'statsmodels.tsa.statespace._smoothers._classical', 'statsmodels.tsa.statespace._smoothers._alternative'],\n",
    "```"
   ]
  },
  {
   "cell_type": "markdown",
   "metadata": {
    "slideshow": {
     "slide_type": "subslide"
    }
   },
   "source": [
    "### Debug\n",
    "\n",
    "V app.py nastavíme \n",
    "\n",
    "```\n",
    "debug = 0\n",
    "```\n",
    "\n",
    "a uložíme"
   ]
  },
  {
   "cell_type": "markdown",
   "metadata": {
    "slideshow": {
     "slide_type": "slide"
    }
   },
   "source": [
    "## Tvorba aplikace\n",
    "\n",
    "Ujistíme se, že máme v terminálu otevřenou správné virtuální prostředí, jinak \n",
    "\n",
    "```\n",
    "venv\\Scripts\\activate.bat\n",
    "```\n",
    "\n",
    "Můžeme odinstalovat některé nepoužité knihovny, ikdyž to samozřejmě není třeba\n",
    "```\n",
    "pip uninstall ipython ipywidgets cufflinks ipython-genutils notebook ipykernel seaborn matplotlib plotly\n",
    "```\n",
    "\n",
    "Následující příkaz spustí build (v případě, že build aplikace již proběhl, smaže původní verzi) \n",
    "\n",
    "```\n",
    "pyinstaller -y app.spec\n",
    "\n",
    "# V případě, že se aplikace nespustí, spusťte ji v terminálu abyste viděli error. Před dalším pokusem je nutné smazat původní soubory\n",
    "```"
   ]
  },
  {
   "cell_type": "markdown",
   "metadata": {
    "slideshow": {
     "slide_type": "slide"
    }
   },
   "source": [
    "## Nyní už jen spustit\n",
    "\n",
    "Aplikaci nalezneme ve složce dist, kde jí spustíme pomocí souboru, který se jmenuje stejně jako náš pythonní soubor a má příponu .exe"
   ]
  },
  {
   "cell_type": "markdown",
   "metadata": {
    "slideshow": {
     "slide_type": "fragment"
    }
   },
   "source": [
    "Chcete-li mít klasický instalátor (například pro vytvoření zástpce), lze použít například [NSIS](https://nsis.sourceforge.io/Download)"
   ]
  },
  {
   "cell_type": "markdown",
   "metadata": {
    "slideshow": {
     "slide_type": "slide"
    }
   },
   "source": [
    "# Dockerize"
   ]
  },
  {
   "cell_type": "markdown",
   "metadata": {
    "slideshow": {
     "slide_type": "slide"
    }
   },
   "source": [
    "Upravíme si hlavní část pythonního souboru...\n",
    "\n",
    "! A odstraníme tkinter z importů !"
   ]
  },
  {
   "cell_type": "code",
   "execution_count": null,
   "metadata": {
    "slideshow": {
     "slide_type": "fragment"
    }
   },
   "outputs": [],
   "source": [
    "def predict(stop):\n",
    "\n",
    "    my_data = pd.read_csv(\"https://raw.githubusercontent.com/jbrownlee/Datasets/master/daily-min-temperatures.csv\")\n",
    "    predictions = predictit.main.predict(data=my_data.iloc[:stop], predicted_column=\"Temp\", use_config_preset=\"fast\", plotit=0, debug=0, printit=0, return_type='detailed_dictionary')\n",
    "    result_df = predictions['complete_dataframe']\n",
    "    if result_df.isnull().values.any():\n",
    "        result_df = result_df.where(result_df.notnull(), None)\n",
    "    eel.draw_plot({'x_axis': result_df.index.to_list(), 'y_axis': result_df.values.T.tolist(), 'names': result_df.columns.values.tolist()})\n",
    "\n",
    "\n",
    "def run_gui(devel):\n",
    "\n",
    "    gui_path = Path(__file__).resolve().parent / 'gui'\n",
    "\n",
    "    def close_callback(page, sockets):\n",
    "        pass\n",
    "    app = None\n",
    "\n",
    "    if devel:\n",
    "        directory = gui_path / 'src'\n",
    "        page = {'port': 8080}\n",
    "\n",
    "    else:\n",
    "        directory = gui_path /'dist'\n",
    "        page = 'index.html'\n",
    "\n",
    "    eel.init(directory.as_posix(), ['.vue', '.js', '.html'])\n",
    "\n",
    "    eel.start(page, block=False, mode=app, cmdline_args=['--disable-features=TranslateUI'], close_callback=close_callback, host=\"localhost\", port=8686, disable_cache=True),\n",
    "\n",
    "    stop = 500\n",
    "\n",
    "    while True:\n",
    "        try:\n",
    "            predict(stop)\n",
    "            eel.sleep(1.0)\n",
    "            stop += 10\n",
    "        except:\n",
    "            break"
   ]
  },
  {
   "cell_type": "markdown",
   "metadata": {
    "slideshow": {
     "slide_type": "slide"
    }
   },
   "source": [
    "Upravíme si vue soubor"
   ]
  },
  {
   "cell_type": "code",
   "execution_count": null,
   "metadata": {
    "slideshow": {
     "slide_type": "fragment"
    }
   },
   "outputs": [],
   "source": [
    "  methods: {\n",
    "    draw_plot(result) {\n",
    "      let plot_data = [];\n",
    "      for (var i = 0; i < result.y_axis.length; i++) {\n",
    "        plot_data.push({\n",
    "          x: result.x_axis,\n",
    "          y: result.y_axis[i],\n",
    "          name: result.names[i],\n",
    "          line: { width: 1.5 },\n",
    "        });\n",
    "      }\n",
    "      this.data = plot_data;\n",
    "      console.log(plot_data);\n",
    "    },\n",
    "  },\n",
    "\n",
    "  mounted() {\n",
    "    window.eel.expose(this.draw_plot, \"draw_plot\");\n",
    "  },"
   ]
  },
  {
   "cell_type": "markdown",
   "metadata": {
    "slideshow": {
     "slide_type": "subslide"
    }
   },
   "source": [
    "V IDE vytvoříme Dockerfile z templatu. Ve vscode pomocí `Docker: Add docker files to workspace` příkazu"
   ]
  },
  {
   "cell_type": "code",
   "execution_count": null,
   "metadata": {
    "slideshow": {
     "slide_type": "fragment"
    }
   },
   "outputs": [],
   "source": [
    "Upravíme vytvořený dockerfile"
   ]
  },
  {
   "cell_type": "code",
   "execution_count": null,
   "metadata": {
    "slideshow": {
     "slide_type": "fragment"
    }
   },
   "outputs": [],
   "source": [
    "# For more information, please refer to https://aka.ms/vscode-docker-python\n",
    "FROM python:3.8-slim-buster\n",
    "\n",
    "EXPOSE 8686\n",
    "\n",
    "# Keeps Python from generating .pyc files in the container\n",
    "ENV PYTHONDONTWRITEBYTECODE 1\n",
    "\n",
    "# Turns off buffering for easier container logging\n",
    "ENV PYTHONUNBUFFERED 1\n",
    "\n",
    "# Install pip requirements\n",
    "ADD requirements.txt .\n",
    "RUN python -m pip install -r requirements.txt\n",
    "\n",
    "RUN apt-get update\n",
    "RUN curl -LO https://dl.google.com/linux/direct/google-chrome-stable_current_amd64.deb\n",
    "RUN apt-get install -f -y ./google-chrome-stable_current_amd64.deb\n",
    "RUN rm google-chrome-stable_current_amd64.deb \n",
    "\n",
    "ADD app.py .\n",
    "COPY gui/dist/ /gui/dist/\n",
    "\n",
    "# During debugging, this entry point will be overridden. For more information, please refer to https://aka.ms/vscode-docker-python-debug\n",
    "CMD [\"python\", \"app.py\"]\n"
   ]
  },
  {
   "cell_type": "markdown",
   "metadata": {
    "slideshow": {
     "slide_type": "subslide"
    }
   },
   "source": [
    "Následně docker zbuildíme a spustíme"
   ]
  },
  {
   "cell_type": "code",
   "execution_count": null,
   "metadata": {
    "slideshow": {
     "slide_type": "fragment"
    }
   },
   "outputs": [],
   "source": [
    "! docker build -t supervise --network host ."
   ]
  },
  {
   "cell_type": "code",
   "execution_count": null,
   "metadata": {
    "slideshow": {
     "slide_type": "fragment"
    }
   },
   "outputs": [],
   "source": [
    "! docker run supervise"
   ]
  },
  {
   "cell_type": "markdown",
   "metadata": {
    "slideshow": {
     "slide_type": "fragment"
    }
   },
   "source": [
    "Spustíme v prohlížeči na localhostu, portu 8686"
   ]
  }
 ],
 "metadata": {
  "celltoolbar": "Slideshow",
  "kernelspec": {
   "display_name": "Python 3 (ipykernel)",
   "language": "python",
   "name": "python3"
  },
  "language_info": {
   "codemirror_mode": {
    "name": "ipython",
    "version": 3
   },
   "file_extension": ".py",
   "mimetype": "text/x-python",
   "name": "python",
   "nbconvert_exporter": "python",
   "pygments_lexer": "ipython3",
   "version": "3.9.2"
  },
  "toc": {
   "base_numbering": 1,
   "nav_menu": {},
   "number_sections": false,
   "sideBar": true,
   "skip_h1_title": false,
   "title_cell": "Table of Contents",
   "title_sidebar": "Contents",
   "toc_cell": false,
   "toc_position": {},
   "toc_section_display": true,
   "toc_window_display": false
  },
  "varInspector": {
   "cols": {
    "lenName": 16,
    "lenType": 16,
    "lenVar": 40
   },
   "kernels_config": {
    "python": {
     "delete_cmd_postfix": "",
     "delete_cmd_prefix": "del ",
     "library": "var_list.py",
     "varRefreshCmd": "print(var_dic_list())"
    },
    "r": {
     "delete_cmd_postfix": ") ",
     "delete_cmd_prefix": "rm(",
     "library": "var_list.r",
     "varRefreshCmd": "cat(var_dic_list()) "
    }
   },
   "types_to_exclude": [
    "module",
    "function",
    "builtin_function_or_method",
    "instance",
    "_Feature"
   ],
   "window_display": false
  }
 },
 "nbformat": 4,
 "nbformat_minor": 2
}
